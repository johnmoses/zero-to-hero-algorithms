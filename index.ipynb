{
 "cells": [
  {
   "cell_type": "markdown",
   "metadata": {},
   "source": [
    "01 Algorithms\n",
    "02 Sorting\n",
    "03 Searching\n",
    "04 Recursion\n",
    "05 Data Structures\n",
    "06 Arrays\n",
    "07 Linked Lists\n",
    "08 Stacks\n",
    "09 Queues\n",
    "10 Maps\n",
    "11 Trees\n",
    "12 Graphs\n",
    "13 Approaches\n",
    "14 Memory Management"
   ]
  }
 ],
 "metadata": {
  "language_info": {
   "name": "python"
  }
 },
 "nbformat": 4,
 "nbformat_minor": 2
}
